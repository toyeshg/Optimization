{
 "cells": [
  {
   "cell_type": "code",
   "execution_count": null,
   "metadata": {},
   "outputs": [],
   "source": [
    "%pip install docplex\n",
    "%pip install cplex"
   ]
  },
  {
   "cell_type": "code",
   "execution_count": 3,
   "metadata": {},
   "outputs": [],
   "source": [
    "from docplex.mp.model import Model"
   ]
  },
  {
   "cell_type": "code",
   "execution_count": 4,
   "metadata": {},
   "outputs": [],
   "source": [
    "m= Model(name='Phone Production')"
   ]
  },
  {
   "attachments": {},
   "cell_type": "markdown",
   "metadata": {},
   "source": [
    "Variables"
   ]
  },
  {
   "cell_type": "code",
   "execution_count": 5,
   "metadata": {},
   "outputs": [
    {
     "name": "stdout",
     "output_type": "stream",
     "text": [
      "Warning: Duplicate variable name: foldy phone production already used for docplex.mp.Var(type=C,name='foldy phone production')\n"
     ]
    }
   ],
   "source": [
    "#Phone production variables\n",
    "foldyphoneproduction=m.continuous_var(name='foldy phone production')\n",
    "tinyphoneproduction=m.continuous_var(name='foldy phone production')"
   ]
  },
  {
   "cell_type": "code",
   "execution_count": 6,
   "metadata": {},
   "outputs": [],
   "source": [
    "#Production Time Constants\n",
    "foldyphonetime= 1.5\n",
    "tinyphonetime= 2"
   ]
  },
  {
   "cell_type": "code",
   "execution_count": 7,
   "metadata": {},
   "outputs": [],
   "source": [
    "foldyphonesalesprice= 900\n",
    "tinyphonesalesprice= 1100"
   ]
  },
  {
   "attachments": {},
   "cell_type": "markdown",
   "metadata": {},
   "source": [
    "Constraints"
   ]
  },
  {
   "cell_type": "code",
   "execution_count": 8,
   "metadata": {},
   "outputs": [],
   "source": [
    "foldyphoneconstraint = m.add_constraint(foldyphoneproduction >=500)\n",
    "tinyphonecontraint = m.add_constraint(tinyphoneproduction >=200)"
   ]
  },
  {
   "cell_type": "code",
   "execution_count": 9,
   "metadata": {},
   "outputs": [],
   "source": [
    "# Production Constraint\n",
    "totalproductionconstraint= m.add_constraint(m.sum([tinyphoneproduction*tinyphonetime, foldyphoneproduction*foldyphonetime]) <= 2999.5)"
   ]
  },
  {
   "attachments": {},
   "cell_type": "markdown",
   "metadata": {},
   "source": [
    "Goals\n"
   ]
  },
  {
   "cell_type": "code",
   "execution_count": 10,
   "metadata": {},
   "outputs": [],
   "source": [
    "m.maximize(foldyphoneproduction*foldyphonesalesprice + tinyphoneproduction*tinyphonesalesprice)"
   ]
  },
  {
   "cell_type": "code",
   "execution_count": 11,
   "metadata": {},
   "outputs": [],
   "source": [
    "sol = m.solve()"
   ]
  },
  {
   "cell_type": "code",
   "execution_count": 12,
   "metadata": {},
   "outputs": [
    {
     "name": "stdout",
     "output_type": "stream",
     "text": [
      "solution for: Phone Production\n",
      "objective: 1779700.000\n",
      "status: OPTIMAL_SOLUTION(2)\n",
      "foldy phone production = 1733.000\n",
      "foldy phone production = 200.000\n"
     ]
    }
   ],
   "source": [
    "sol.display()"
   ]
  },
  {
   "cell_type": "code",
   "execution_count": null,
   "metadata": {},
   "outputs": [],
   "source": []
  }
 ],
 "metadata": {
  "kernelspec": {
   "display_name": "Python 3",
   "language": "python",
   "name": "python3"
  },
  "language_info": {
   "codemirror_mode": {
    "name": "ipython",
    "version": 3
   },
   "file_extension": ".py",
   "mimetype": "text/x-python",
   "name": "python",
   "nbconvert_exporter": "python",
   "pygments_lexer": "ipython3",
   "version": "3.9.13"
  },
  "orig_nbformat": 4,
  "vscode": {
   "interpreter": {
    "hash": "9cdd5e6ab108f71af6c5865e97281ac0209e0ca7fff46adff5cbaa73bb754a12"
   }
  }
 },
 "nbformat": 4,
 "nbformat_minor": 2
}
